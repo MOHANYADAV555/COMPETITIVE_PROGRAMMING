{
 "cells": [
  {
   "cell_type": "markdown",
   "id": "ad65eff8",
   "metadata": {},
   "source": [
    "# Strings"
   ]
  },
  {
   "cell_type": "raw",
   "id": "87c15414",
   "metadata": {},
   "source": [
    "strings in python are surrounded by either single Quotation marks or double Quatation marks"
   ]
  },
  {
   "cell_type": "markdown",
   "id": "de8f5970",
   "metadata": {},
   "source": [
    "# Strinng creation"
   ]
  },
  {
   "cell_type": "code",
   "execution_count": 2,
   "id": "c5de778e",
   "metadata": {},
   "outputs": [
    {
     "name": "stdout",
     "output_type": "stream",
     "text": [
      "Hello Python\n"
     ]
    }
   ],
   "source": [
    "str1 = \"Hello Python\"\n",
    "print(str1)"
   ]
  },
  {
   "cell_type": "code",
   "execution_count": 3,
   "id": "a20c249b",
   "metadata": {},
   "outputs": [
    {
     "name": "stdout",
     "output_type": "stream",
     "text": [
      "Hello World\n"
     ]
    }
   ],
   "source": [
    "mystr = 'Hello World' # Define string using single quotes\n",
    "print(mystr)"
   ]
  },
  {
   "cell_type": "code",
   "execution_count": 4,
   "id": "dc097cf4",
   "metadata": {},
   "outputs": [
    {
     "name": "stdout",
     "output_type": "stream",
     "text": [
      "Hello World\n"
     ]
    }
   ],
   "source": [
    "mystr = \"Hello World\" # Define string using double quotes\n",
    "print(mystr)"
   ]
  },
  {
   "cell_type": "code",
   "execution_count": 5,
   "id": "eba8a730",
   "metadata": {},
   "outputs": [
    {
     "name": "stdout",
     "output_type": "stream",
     "text": [
      "Hello World\n"
     ]
    }
   ],
   "source": [
    "mystr = \"\"\"Hello World\"\"\" # Define string using triple quotes\n",
    "print(mystr)\n"
   ]
  },
  {
   "cell_type": "code",
   "execution_count": 6,
   "id": "327d5f24",
   "metadata": {},
   "outputs": [
    {
     "data": {
      "text/plain": [
       "'my name is MOHAN YADAV'"
      ]
     },
     "execution_count": 6,
     "metadata": {},
     "output_type": "execute_result"
    }
   ],
   "source": [
    "mystr =(\"my \"\n",
    "        \"name \"\n",
    "        \"is \"\n",
    "       \"MOHAN YADAV\")   # call variable output will be like below\n",
    "mystr"
   ]
  },
  {
   "cell_type": "code",
   "execution_count": 7,
   "id": "68fcd577",
   "metadata": {},
   "outputs": [
    {
     "name": "stdout",
     "output_type": "stream",
     "text": [
      "i am mohan\n"
     ]
    }
   ],
   "source": [
    "my = ('i'\n",
    "     ' am'\n",
    "     ' mohan') # print variable output will be like below\n",
    "print(my)"
   ]
  },
  {
   "cell_type": "code",
   "execution_count": 8,
   "id": "f3484a30",
   "metadata": {},
   "outputs": [
    {
     "name": "stdout",
     "output_type": "stream",
     "text": [
      "Happy Monday Everyone\n"
     ]
    }
   ],
   "source": [
    "mystr = ('Happy '\n",
    " 'Monday '\n",
    " 'Everyone')\n",
    "print(mystr)\n"
   ]
  },
  {
   "cell_type": "code",
   "execution_count": 9,
   "id": "148c85d6",
   "metadata": {},
   "outputs": [
    {
     "data": {
      "text/plain": [
       "'Woohoo Woohoo Woohoo Woohoo Woohoo '"
      ]
     },
     "execution_count": 9,
     "metadata": {},
     "output_type": "execute_result"
    }
   ],
   "source": [
    "my_str = \"Woohoo \"\n",
    "my_str = my_str*5\n",
    "my_str"
   ]
  },
  {
   "cell_type": "code",
   "execution_count": 10,
   "id": "0a7cdf04",
   "metadata": {},
   "outputs": [
    {
     "data": {
      "text/plain": [
       "35"
      ]
     },
     "execution_count": 10,
     "metadata": {},
     "output_type": "execute_result"
    }
   ],
   "source": [
    "len(my_str)  # Length of string"
   ]
  },
  {
   "cell_type": "code",
   "execution_count": null,
   "id": "daf5c0b3",
   "metadata": {},
   "outputs": [],
   "source": []
  }
 ],
 "metadata": {
  "kernelspec": {
   "display_name": "Python 3 (ipykernel)",
   "language": "python",
   "name": "python3"
  },
  "language_info": {
   "codemirror_mode": {
    "name": "ipython",
    "version": 3
   },
   "file_extension": ".py",
   "mimetype": "text/x-python",
   "name": "python",
   "nbconvert_exporter": "python",
   "pygments_lexer": "ipython3",
   "version": "3.10.2"
  }
 },
 "nbformat": 4,
 "nbformat_minor": 5
}
